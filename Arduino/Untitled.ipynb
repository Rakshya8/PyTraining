{
 "cells": [
  {
   "cell_type": "code",
   "execution_count": null,
   "metadata": {},
   "outputs": [],
   "source": [
    "import serial #Serial imported for Serial communication\n",
    "import time #Required to use delay functions\n",
    " \n",
    "ArduinoSerial = serial.Serial('com4',9600) #Create Serial port object called arduinoSerialData\n",
    "time.sleep(2) #wait for 2 secounds for the communication to get established\n",
    "\n",
    "print (ArduinoSerial.readline()) #read the serial data and print it as line\n",
    "print (\"Enter 1 to turn ON LED and 0 to turn OFF LED\")\n",
    "\n",
    " \n",
    "while 1: #Do this forever\n",
    "\n",
    "    var = raw_input() #get input from user\n",
    "    print (\"you entered\", var) #print the intput for confirmation\n",
    "    \n",
    "    if (var == '1'): #if the value is 1\n",
    "        ArduinoSerial.write('1') #send 1\n",
    "        print (\"LED turned ON\")\n",
    "        time.sleep(1)\n",
    "    \n",
    "    if (var == '0'): #if the value is 0\n",
    "        ArduinoSerial.write('0') #send 0\n",
    "        print (\"LED turned OFF\")\n",
    "        time.sleep(1)\n",
    "\n"
   ]
  },
  {
   "cell_type": "code",
   "execution_count": null,
   "metadata": {},
   "outputs": [],
   "source": []
  }
 ],
 "metadata": {
  "kernelspec": {
   "display_name": "Python 3",
   "language": "python",
   "name": "python3"
  },
  "language_info": {
   "codemirror_mode": {
    "name": "ipython",
    "version": 3
   },
   "file_extension": ".py",
   "mimetype": "text/x-python",
   "name": "python",
   "nbconvert_exporter": "python",
   "pygments_lexer": "ipython3",
   "version": "3.6.5"
  }
 },
 "nbformat": 4,
 "nbformat_minor": 2
}
