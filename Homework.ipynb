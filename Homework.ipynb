{
 "cells": [
  {
   "cell_type": "code",
   "execution_count": 9,
   "metadata": {},
   "outputs": [
    {
     "name": "stdout",
     "output_type": "stream",
     "text": [
      "Solution of question 1: \n",
      "\n",
      "Acceleration:  2.5\n"
     ]
    }
   ],
   "source": [
    "print(\"Solution of question 1: \\n\")\n",
    "print(\"===============================\")\n",
    "\n",
    "v=25\n",
    "u=0\n",
    "t=10\n",
    "\n",
    "ans = (v-u)/t\n",
    "print(\"Acceleration: \",format(ans))"
   ]
  },
  {
   "cell_type": "code",
   "execution_count": 8,
   "metadata": {},
   "outputs": [
    {
     "name": "stdout",
     "output_type": "stream",
     "text": [
      "Solution of question 2: \n",
      "\n",
      "Enter your first name:Saijal\n",
      "Enter your last name:Shakya\n",
      "Your name is SaijalShakya\n"
     ]
    }
   ],
   "source": [
    "print(\"Solution of question 2: \\n\")\n",
    "print(\"===============================\")\n",
    "\n",
    "firstName = input(\"Enter your first name:\")\n",
    "lastName = input(\"Enter your last name:\")\n",
    "\n",
    "if(firstName == \"\" and lastName == \"\"):\n",
    "    print(\"Please enter full name\")\n",
    "elif(firstName == \"\"):\n",
    "    print(\"Please enter first name\")\n",
    "elif(lastName == \"\"):\n",
    "    print(\"Please enter last name\")\n",
    "else:\n",
    "    fullName = firstName+lastName\n",
    "    print(\"Your name is\",fullName)"
   ]
  },
  {
   "cell_type": "code",
   "execution_count": 1,
   "metadata": {},
   "outputs": [
    {
     "name": "stdout",
     "output_type": "stream",
     "text": [
      "Enter your nameSaijal Shakya\n",
      "1 Saijal Shakya\n",
      "2 Saijal Shakya\n",
      "3 Saijal Shakya\n",
      "4 Saijal Shakya\n",
      "5 Saijal Shakya\n",
      "6 Saijal Shakya\n",
      "7 Saijal Shakya\n",
      "8 Saijal Shakya\n",
      "9 Saijal Shakya\n",
      "10 Saijal Shakya\n"
     ]
    }
   ],
   "source": [
    "print(\"Solution of question 3: \\n\")\n",
    "print(\"===============================\")\n",
    "\n",
    "a = input(\"Enter your name\")\n",
    "\n",
    "if(a.isdigit()):\n",
    "    print(\"Please enter string.\")\n",
    "else:\n",
    "    i = 0\n",
    "    while i<10:\n",
    "        print(i+1,a)\n",
    "        i+=1\n"
   ]
  },
  {
   "cell_type": "code",
   "execution_count": 15,
   "metadata": {},
   "outputs": [
    {
     "name": "stdout",
     "output_type": "stream",
     "text": [
      "Enter a stringSaijal\n",
      "Saijal**\n"
     ]
    }
   ],
   "source": [
    "print(\"Solution of question 4: \\n\")\n",
    "print(\"===============================\")\n",
    "\n",
    "a = input(\"Enter a string\")\n",
    "\n",
    "class hw:\n",
    "    def __init__(this,a):\n",
    "        this.con = \"**\"\n",
    "        this.a = a\n",
    "    def concatingString(this):\n",
    "        print(this.a+this.con)\n",
    "\n",
    "fxCall = hw(a)\n",
    "\n",
    "fxCall.concatingString()"
   ]
  },
  {
   "cell_type": "code",
   "execution_count": 2,
   "metadata": {},
   "outputs": [
    {
     "name": "stdout",
     "output_type": "stream",
     "text": [
      "Solution of question 5: \n",
      "\n",
      "===============================\n",
      "Enter first number5\n",
      "Enter second number5\n",
      "Enter third number6\n",
      "16\n"
     ]
    }
   ],
   "source": [
    "print(\"Solution of question 5: \\n\")\n",
    "print(\"===============================\")\n",
    "n1 = input(\"Enter first number\")\n",
    "n2 = input(\"Enter second number\")\n",
    "n3 = input(\"Enter third number\")\n",
    "\n",
    "if(n1.isdigit() and n2.isdigit() and n3.isdigit()):\n",
    "    if(int(n1)<0 or int(n2)<0 or int(n3)<0):\n",
    "        print(\"Please enter positive number\")\n",
    "    else:\n",
    "        n4 = int(n1)+int(n2)+int(n3)\n",
    "        print(n4)\n",
    "else:\n",
    "    print(\"All field must be a number\")"
   ]
  }
 ],
 "metadata": {
  "kernelspec": {
   "display_name": "Python 3",
   "language": "python",
   "name": "python3"
  },
  "language_info": {
   "codemirror_mode": {
    "name": "ipython",
    "version": 3
   },
   "file_extension": ".py",
   "mimetype": "text/x-python",
   "name": "python",
   "nbconvert_exporter": "python",
   "pygments_lexer": "ipython3",
   "version": "3.6.5"
  }
 },
 "nbformat": 4,
 "nbformat_minor": 2
}
