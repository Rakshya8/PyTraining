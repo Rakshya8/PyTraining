{
 "cells": [
  {
   "cell_type": "code",
   "execution_count": 1,
   "metadata": {},
   "outputs": [
    {
     "name": "stdout",
     "output_type": "stream",
     "text": [
      "b is greater\n"
     ]
    }
   ],
   "source": [
    "a = 10\n",
    "b = 20 \n",
    "\n",
    "if(a>b):\n",
    "    print(\"A is greater\")\n",
    "else:\n",
    "    print(\"b is greater\")"
   ]
  },
  {
   "cell_type": "code",
   "execution_count": 3,
   "metadata": {},
   "outputs": [
    {
     "name": "stdout",
     "output_type": "stream",
     "text": [
      "B is greater\n"
     ]
    }
   ],
   "source": [
    "a = 20 \n",
    "b = 50 \n",
    "\n",
    "if(a>b):\n",
    "    print(\"A is greater\")\n",
    "elif a<b:\n",
    "    print(\"B is greater\")"
   ]
  },
  {
   "cell_type": "code",
   "execution_count": 4,
   "metadata": {},
   "outputs": [
    {
     "name": "stdout",
     "output_type": "stream",
     "text": [
      "A is equals to B\n"
     ]
    }
   ],
   "source": [
    "a = 10 \n",
    "b = 10 \n",
    "\n",
    "if(a>b):\n",
    "    print(\"A is greater\")\n",
    "elif a<b:\n",
    "    print(\"B is greater\")\n",
    "else:\n",
    "    print(\"A is equals to B\")"
   ]
  },
  {
   "cell_type": "code",
   "execution_count": 8,
   "metadata": {},
   "outputs": [
    {
     "name": "stdout",
     "output_type": "stream",
     "text": [
      "OK\n"
     ]
    }
   ],
   "source": [
    "a = 10\n",
    "b= 10\n",
    "\n",
    "if a>b or a==b:\n",
    "    print(\"OK\")"
   ]
  },
  {
   "cell_type": "code",
   "execution_count": 19,
   "metadata": {},
   "outputs": [
    {
     "name": "stdout",
     "output_type": "stream",
     "text": [
      "Tue Nov 27 17:39:17 2018\n",
      "Tue Nov 27 17:39:17 2018\n"
     ]
    }
   ],
   "source": [
    "import time;\n",
    "\n",
    "t = time.asctime(time.localtime(time.time()))\n",
    "\n",
    "d = time.asctime(time.localtime(time.time()))\n",
    "print(t)\n",
    "print(d)"
   ]
  },
  {
   "cell_type": "code",
   "execution_count": 1,
   "metadata": {},
   "outputs": [
    {
     "name": "stdout",
     "output_type": "stream",
     "text": [
      "   November 2018\n",
      "Mo Tu We Th Fr Sa Su\n",
      "          1  2  3  4\n",
      " 5  6  7  8  9 10 11\n",
      "12 13 14 15 16 17 18\n",
      "19 20 21 22 23 24 25\n",
      "26 27 28 29 30\n",
      "\n"
     ]
    }
   ],
   "source": [
    "import calendar\n",
    "\n",
    "c = calendar.month(2018,11)\n",
    "print(c)"
   ]
  },
  {
   "cell_type": "code",
   "execution_count": 35,
   "metadata": {},
   "outputs": [
    {
     "name": "stdout",
     "output_type": "stream",
     "text": [
      "This month is: November \n",
      "\n"
     ]
    }
   ],
   "source": [
    "import datetime\n",
    "\n",
    "m = ('January','Febraury','March','April','May','June','July','August','September','October','November','December')\n",
    "t = datetime.date.today()\n",
    "mon = (t.month)-1\n",
    "t_month = m[mon]\n",
    "\n",
    "print(\"This month is:\",t_month,'\\n')\n",
    "\n",
    "\n"
   ]
  },
  {
   "cell_type": "code",
   "execution_count": 2,
   "metadata": {},
   "outputs": [
    {
     "name": "stdout",
     "output_type": "stream",
     "text": [
      "{   0: 'January',\n",
      "    1: 'Febraury',\n",
      "    2: 'March',\n",
      "    3: 'April',\n",
      "    4: 'May',\n",
      "    5: 'June',\n",
      "    6: 'July',\n",
      "    7: 'August',\n",
      "    8: 'September',\n",
      "    9: 'October',\n",
      "    10: 'November',\n",
      "    11: 'December'}\n"
     ]
    }
   ],
   "source": [
    "import pprint\n",
    "\n",
    "pp = pprint.PrettyPrinter(indent=4)\n",
    "\n",
    "m = ('January','Febraury','March','April','May','June','July','August','September','October','November','December')\n",
    "l = len(m)\n",
    "i=0\n",
    "dic = {}\n",
    "while i<l:\n",
    "    dic[i] = m[i]\n",
    "    i+=1\n",
    "\n",
    "pp.pprint(dic)"
   ]
  },
  {
   "cell_type": "code",
   "execution_count": 46,
   "metadata": {},
   "outputs": [
    {
     "name": "stdout",
     "output_type": "stream",
     "text": [
      "15\n"
     ]
    }
   ],
   "source": [
    "x = lambda a : a + 10\n",
    "print(x(5))\n",
    "\n",
    "#function lambda(a){\n",
    " #   a+=10\n",
    "  #  print(a)\n",
    "#} "
   ]
  },
  {
   "cell_type": "code",
   "execution_count": 47,
   "metadata": {},
   "outputs": [
    {
     "name": "stdout",
     "output_type": "stream",
     "text": [
      "22\n"
     ]
    }
   ],
   "source": [
    "def myfunc(n):\n",
    "  return lambda a : a * n\n",
    "\n",
    "mydoubler = myfunc(2)\n",
    "\n",
    "print(mydoubler(11))"
   ]
  },
  {
   "cell_type": "code",
   "execution_count": null,
   "metadata": {},
   "outputs": [],
   "source": []
  }
 ],
 "metadata": {
  "kernelspec": {
   "display_name": "Python 3",
   "language": "python",
   "name": "python3"
  },
  "language_info": {
   "codemirror_mode": {
    "name": "ipython",
    "version": 3
   },
   "file_extension": ".py",
   "mimetype": "text/x-python",
   "name": "python",
   "nbconvert_exporter": "python",
   "pygments_lexer": "ipython3",
   "version": "3.6.5"
  }
 },
 "nbformat": 4,
 "nbformat_minor": 2
}
