{
 "cells": [
  {
   "cell_type": "code",
   "execution_count": 2,
   "metadata": {},
   "outputs": [
    {
     "name": "stdout",
     "output_type": "stream",
     "text": [
      "Hello World\n"
     ]
    }
   ],
   "source": [
    "def saijal(a):\n",
    "    print(a)\n",
    "    \n",
    "saijal(\"Hello World\")"
   ]
  },
  {
   "cell_type": "code",
   "execution_count": 3,
   "metadata": {},
   "outputs": [
    {
     "name": "stdout",
     "output_type": "stream",
     "text": [
      "11\n"
     ]
    }
   ],
   "source": [
    "def saijal(a,b):\n",
    "    print(a+b)\n",
    "    \n",
    "saijal(5,6)"
   ]
  },
  {
   "cell_type": "code",
   "execution_count": 12,
   "metadata": {},
   "outputs": [
    {
     "name": "stdout",
     "output_type": "stream",
     "text": [
      "Inside values: ['saijal', 'shakya']\n",
      "Outside values  ['shristi', 'mam']\n"
     ]
    }
   ],
   "source": [
    "def changeme(mylist):\n",
    "   mylist = [\"saijal\",\"shakya\"]\n",
    "   print(\"Inside values:\",mylist)\n",
    "\n",
    "mylist = [\"shristi\",\"mam\"];\n",
    "changeme( mylist );\n",
    "print (\"Outside values \", mylist)"
   ]
  },
  {
   "cell_type": "code",
   "execution_count": 25,
   "metadata": {},
   "outputs": [
    {
     "name": "stdout",
     "output_type": "stream",
     "text": [
      "Your first name is: saijal\n",
      "Your last name is: shakya\n"
     ]
    }
   ],
   "source": [
    "def fullName(fn,ln):\n",
    "    print(\"Your first name is:\",fn)\n",
    "    print(\"Your last name is:\",ln)\n",
    "\n",
    "fullName(fn=\"saijal\",ln=\"shakya\")"
   ]
  },
  {
   "cell_type": "code",
   "execution_count": 18,
   "metadata": {},
   "outputs": [
    {
     "name": "stdout",
     "output_type": "stream",
     "text": [
      "Name:  miki\n",
      "Age  50\n"
     ]
    }
   ],
   "source": [
    "def printinfo( name, age ):\n",
    "   print(\"Name: \", name)\n",
    "   print(\"Age \", age)\n",
    "\n",
    "printinfo( age=50, name=\"miki\" )"
   ]
  },
  {
   "cell_type": "code",
   "execution_count": 26,
   "metadata": {},
   "outputs": [
    {
     "name": "stdout",
     "output_type": "stream",
     "text": [
      "Your name:  saijal\n",
      "Age:  20\n",
      "Your name:  saijal\n",
      "Age:  22\n"
     ]
    }
   ],
   "source": [
    "def defaultValue(name,age=22):\n",
    "    print(\"Your name: \",name)\n",
    "    print(\"Age: \",age)\n",
    "    \n",
    "defaultValue(\"saijal\",20)\n",
    "defaultValue(\"saijal\")"
   ]
  },
  {
   "cell_type": "code",
   "execution_count": 33,
   "metadata": {},
   "outputs": [
    {
     "name": "stdout",
     "output_type": "stream",
     "text": [
      "The number is: 1\n",
      "2\n",
      "3\n",
      "4\n",
      "5\n",
      "6\n",
      "The number is: 10\n"
     ]
    }
   ],
   "source": [
    "def variableLength(num, *varchar):\n",
    "    print(\"The number is:\",num)\n",
    "    for i in varchar:\n",
    "        print(i)\n",
    "    return\n",
    "\n",
    "variableLength(1,2,3,4,5,6)\n",
    "variableLength(10)"
   ]
  },
  {
   "cell_type": "code",
   "execution_count": 34,
   "metadata": {},
   "outputs": [
    {
     "name": "stdout",
     "output_type": "stream",
     "text": [
      "Sum of 6 and 5 is: 11\n"
     ]
    }
   ],
   "source": [
    "x = lambda a,b:a+b\n",
    "\n",
    "print(\"Sum of 6 and 5 is:\", x(6,5))"
   ]
  },
  {
   "cell_type": "code",
   "execution_count": 35,
   "metadata": {},
   "outputs": [
    {
     "name": "stdout",
     "output_type": "stream",
     "text": [
      "The sum is: 11\n"
     ]
    }
   ],
   "source": [
    "def sa(a,b):\n",
    "    return a+b\n",
    "\n",
    "sumIs = sa(6,5)\n",
    "print(\"The sum is:\",sumIs)"
   ]
  },
  {
   "cell_type": "code",
   "execution_count": 42,
   "metadata": {},
   "outputs": [
    {
     "name": "stdout",
     "output_type": "stream",
     "text": [
      "Enter first number:10\n",
      "Enter second number:55\n",
      "The sum is: 65\n"
     ]
    }
   ],
   "source": [
    "def inp(a,b):\n",
    "    a = int(a)\n",
    "    b = int(b)\n",
    "    return a+b\n",
    "\n",
    "one = input(\"Enter first number:\")\n",
    "two = input(\"Enter second number:\")\n",
    "\n",
    "sumI = inp(one,two)\n",
    "\n",
    "print(\"The sum is:\",sumI)"
   ]
  },
  {
   "cell_type": "code",
   "execution_count": 46,
   "metadata": {},
   "outputs": [
    {
     "name": "stdout",
     "output_type": "stream",
     "text": [
      "Enter first number:2\n",
      "Enter second number:5\n",
      "Multiplication is: 10\n"
     ]
    }
   ],
   "source": [
    "def mul(a,b):\n",
    "    return int(a)*int(b)\n",
    "\n",
    "inp1 = input(\"Enter first number:\")\n",
    "inp2 = input(\"Enter second number:\")\n",
    "\n",
    "print(\"Multiplication is:\", mul(inp1,inp2))"
   ]
  },
  {
   "cell_type": "code",
   "execution_count": 47,
   "metadata": {},
   "outputs": [
    {
     "name": "stdout",
     "output_type": "stream",
     "text": [
      "10\n"
     ]
    }
   ],
   "source": [
    "class A:\n",
    "    x = 10\n",
    "    \n",
    "p = A()\n",
    "print(p.x)"
   ]
  },
  {
   "cell_type": "code",
   "execution_count": 48,
   "metadata": {},
   "outputs": [
    {
     "name": "stdout",
     "output_type": "stream",
     "text": [
      "John\n",
      "36\n"
     ]
    }
   ],
   "source": [
    "class Person:\n",
    "  def __init__(self, name, age):\n",
    "    self.name = name\n",
    "    self.age = age\n",
    "\n",
    "p1 = Person(\"John\", 36)\n",
    "\n",
    "print(p1.name)\n",
    "print(p1.age)"
   ]
  },
  {
   "cell_type": "code",
   "execution_count": 65,
   "metadata": {},
   "outputs": [
    {
     "name": "stdout",
     "output_type": "stream",
     "text": [
      "Saijal Shakya\n",
      "22\n",
      "Lalitpur\n"
     ]
    },
    {
     "ename": "TypeError",
     "evalue": "'str' object is not callable",
     "output_type": "error",
     "traceback": [
      "\u001b[1;31m---------------------------------------------------------------------------\u001b[0m",
      "\u001b[1;31mTypeError\u001b[0m                                 Traceback (most recent call last)",
      "\u001b[1;32m<ipython-input-65-852654711b7a>\u001b[0m in \u001b[0;36m<module>\u001b[1;34m\u001b[0m\n\u001b[0;32m     12\u001b[0m \u001b[0mprint\u001b[0m\u001b[1;33m(\u001b[0m\u001b[0mcall\u001b[0m\u001b[1;33m.\u001b[0m\u001b[0mage\u001b[0m\u001b[1;33m)\u001b[0m\u001b[1;33m\u001b[0m\u001b[0m\n\u001b[0;32m     13\u001b[0m \u001b[0mprint\u001b[0m\u001b[1;33m(\u001b[0m\u001b[0mcall\u001b[0m\u001b[1;33m.\u001b[0m\u001b[0maddress\u001b[0m\u001b[1;33m)\u001b[0m\u001b[1;33m\u001b[0m\u001b[0m\n\u001b[1;32m---> 14\u001b[1;33m \u001b[0mcall\u001b[0m\u001b[1;33m.\u001b[0m\u001b[0maddress\u001b[0m\u001b[1;33m(\u001b[0m\u001b[1;33m)\u001b[0m\u001b[1;33m\u001b[0m\u001b[0m\n\u001b[0m",
      "\u001b[1;31mTypeError\u001b[0m: 'str' object is not callable"
     ]
    }
   ],
   "source": [
    "class detail:\n",
    "    def __init__(this,name,age,address):\n",
    "        this.name = name\n",
    "        this.age = age\n",
    "        this.address = address\n",
    "    \n",
    "    def address(this):\n",
    "       print(\"Your address is\",this.age)\n",
    "    \n",
    "call = detail(\"Saijal Shakya\",22,\"Lalitpur\")\n",
    "print(call.name)\n",
    "print(call.age)\n",
    "print(call.address)\n",
    "call.address()"
   ]
  }
 ],
 "metadata": {
  "kernelspec": {
   "display_name": "Python 3",
   "language": "python",
   "name": "python3"
  },
  "language_info": {
   "codemirror_mode": {
    "name": "ipython",
    "version": 3
   },
   "file_extension": ".py",
   "mimetype": "text/x-python",
   "name": "python",
   "nbconvert_exporter": "python",
   "pygments_lexer": "ipython3",
   "version": "3.6.5"
  }
 },
 "nbformat": 4,
 "nbformat_minor": 2
}
