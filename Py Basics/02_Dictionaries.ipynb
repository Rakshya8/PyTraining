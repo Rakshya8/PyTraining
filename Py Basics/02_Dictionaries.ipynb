{
 "cells": [
  {
   "cell_type": "markdown",
   "metadata": {},
   "source": [
    "# Dictionary"
   ]
  },
  {
   "cell_type": "markdown",
   "metadata": {},
   "source": [
    "* Dictionary is another useful data type built into Python.\n",
    "* Dictionaries are sometimes found in other languages as \"associative memories\" or \"associative arrays\" or \"Hash Maps\".\n",
    "* Unlike sequences like lists, tuples, sets, which are indexed by a range of numbers, dictionaries are indexed by keys.\n",
    "* Keys in dictionary can be any immutable type (strings, numbers). \n",
    "* Tuples can be used as keys if they contain only strings, numbers, or tuples\n",
    "* But, if a tuple contains any mutable object (list, set) either directly or indirectly, it cannot be used as a key. \n",
    "* Can't use lists as keys, since lists can be modified in place using index assignments, slice assignments, or methods like `append()` and `extend()`."
   ]
  },
  {
   "cell_type": "markdown",
   "metadata": {},
   "source": [
    "* It is best to think of a dictionary as an unordered set of **`key: value`** pairs\n",
    "* The requirement is that the keys are unique (within one dictionary). \n",
    "* A pair of braces creates an empty dictionary: `{}`. \n",
    "* The main operations on a dictionary are storing a value with some key and extracting the value given the key. "
   ]
  },
  {
   "cell_type": "code",
   "execution_count": null,
   "metadata": {
    "scrolled": true
   },
   "outputs": [],
   "source": []
  },
  {
   "cell_type": "code",
   "execution_count": null,
   "metadata": {},
   "outputs": [],
   "source": [
    "language = {\n",
    "        \"name\": \"Python\",\n",
    "        \"foundend\": 1980,\n",
    "        \"opensource\": True,\n",
    "        \"version\": 3.6,\n",
    "        \"properties\": [\"high-level\", \"general-purpose\", \"interpreted\", \"dynamic\"],\n",
    "        (\"Frameworks\", ): {\n",
    "            \"web\": [\"Django\", \"Flask\", \"Pyramid\"],\n",
    "            \"machine_learning\": {\"Scikit-Learn\", \"PyTorch\", \"Tensorflow\"}\n",
    "        }    \n",
    "    }"
   ]
  },
  {
   "cell_type": "code",
   "execution_count": null,
   "metadata": {},
   "outputs": [],
   "source": []
  },
  {
   "cell_type": "code",
   "execution_count": 1,
   "metadata": {},
   "outputs": [],
   "source": [
    "hbo_hits = [\n",
    "        ('Game of Thrones', 9.5), \n",
    "        ('Band of Brothers', 9.5), \n",
    "        ('The Wire', 9.3), \n",
    "        ('The Sopranos', 9.2)\n",
    "]\n",
    "\n"
   ]
  },
  {
   "cell_type": "markdown",
   "metadata": {},
   "source": [
    "## Pretty printing"
   ]
  },
  {
   "cell_type": "code",
   "execution_count": 9,
   "metadata": {
    "scrolled": true
   },
   "outputs": [
    {
     "name": "stdout",
     "output_type": "stream",
     "text": [
      "[         ('Game of Thrones', 9.5),\n",
      "          ('Band of Brothers', 9.5),\n",
      "          ('The Wire', 9.3),\n",
      "          ('The Sopranos', 9.2)]\n",
      "====================\n",
      "[('Game of Thrones', 9.5), ('Band of Brothers', 9.5), ('The Wire', 9.3), ('The Sopranos', 9.2)]\n"
     ]
    }
   ],
   "source": [
    "import pprint\n",
    "hbo_hits = [\n",
    "        ('Game of Thrones', 9.5), \n",
    "        ('Band of Brothers', 9.5), \n",
    "        ('The Wire', 9.3), \n",
    "        ('The Sopranos', 9.2)\n",
    "]\n",
    "\n",
    "pp = pprint.PrettyPrinter(indent=10)\n",
    "pp.pprint(hbo_hits)\n",
    "print(\"====================\")\n",
    "print(hbo_hits)"
   ]
  },
  {
   "cell_type": "markdown",
   "metadata": {},
   "source": [
    "### Accessing"
   ]
  },
  {
   "cell_type": "code",
   "execution_count": 11,
   "metadata": {},
   "outputs": [
    {
     "name": "stdout",
     "output_type": "stream",
     "text": [
      "Python 3.6\n"
     ]
    }
   ],
   "source": [
    "language = {\n",
    "        \"name\": \"Python\",\n",
    "        \"foundend\": 1980,\n",
    "        \"opensource\": True,\n",
    "        \"version\": 3.6,\n",
    "        \"properties\": [\"high-level\", \"general-purpose\", \"interpreted\", \"dynamic\"],\n",
    "        (\"Frameworks\", ): {\n",
    "            \"web\": [\"Django\", \"Flask\", \"Pyramid\"],\n",
    "            \"machine_learning\": {\"Scikit-Learn\", \"PyTorch\", \"Tensorflow\"}\n",
    "        }    \n",
    "    }\n",
    "\n",
    "print(language['name'],language['version'])\n"
   ]
  },
  {
   "cell_type": "code",
   "execution_count": null,
   "metadata": {},
   "outputs": [],
   "source": [
    "phone_book = {\n",
    "    \"ram\": [\"98073XXXXX\", \"98402XXXXX\"],\n",
    "    \"hari\": [\"9800000000\"]\n",
    "}\n"
   ]
  },
  {
   "cell_type": "code",
   "execution_count": 15,
   "metadata": {
    "scrolled": true
   },
   "outputs": [
    {
     "name": "stdout",
     "output_type": "stream",
     "text": [
      "Ram Ncell 98073XXXXX\n",
      "Ram NTC 98402XXXXX\n",
      "Hari 9800000000\n"
     ]
    }
   ],
   "source": [
    "phone_book = {\n",
    "    \"ram\": {\"ncell\": \"98073XXXXX\", \n",
    "              \"ntc\":\"98402XXXXX\"},\n",
    "    \"hari\": [\"9800000000\"]\n",
    "}\n",
    "\n",
    "print(\"Ram Ncell\",phone_book[\"ram\"][\"ncell\"])\n",
    "print(\"Ram NTC\",phone_book[\"ram\"][\"ntc\"])\n",
    "print(\"Hari\",phone_book[\"hari\"][0])"
   ]
  },
  {
   "cell_type": "code",
   "execution_count": 16,
   "metadata": {},
   "outputs": [
    {
     "name": "stdout",
     "output_type": "stream",
     "text": [
      "9.5\n"
     ]
    }
   ],
   "source": [
    "tv_shows = {\n",
    "    \"HBO\": {'The Sopranos': 9.2, 'The Wire': 9.3, 'Band of Brothers': 9.5, 'Game of Thrones': 9.5},\n",
    "    \"AMC\": {\"Breaking Bad\":9.5, \"Better Call Saul\":8.7, \"The Walking Dead\":8.5}\n",
    "}\n",
    "\n",
    "print(tv_shows[\"HBO\"][\"Band of Brothers\"])"
   ]
  },
  {
   "cell_type": "code",
   "execution_count": null,
   "metadata": {},
   "outputs": [],
   "source": [
    "phone_book = {\n",
    "    \"ncell\": \"98073XXXXX\",\n",
    "    \"ntc\":\"98402XXXXX\"\n",
    "}"
   ]
  },
  {
   "cell_type": "markdown",
   "metadata": {},
   "source": [
    "## Inserting"
   ]
  },
  {
   "cell_type": "code",
   "execution_count": 17,
   "metadata": {},
   "outputs": [
    {
     "data": {
      "text/plain": [
       "{'ncell': '98073XXXXX', 'ntc': '98402XXXXX', 'smart': '9898989898'}"
      ]
     },
     "execution_count": 17,
     "metadata": {},
     "output_type": "execute_result"
    }
   ],
   "source": [
    "phone_book = {\n",
    "    \"ncell\": \"98073XXXXX\",\n",
    "    \"ntc\":\"98402XXXXX\"\n",
    "}\n",
    "\n",
    "phone_book[\"smart\"] = \"9898989898\"\n",
    "phone_book"
   ]
  },
  {
   "cell_type": "markdown",
   "metadata": {},
   "source": [
    "## Modifying"
   ]
  },
  {
   "cell_type": "code",
   "execution_count": 19,
   "metadata": {},
   "outputs": [
    {
     "data": {
      "text/plain": [
       "{'ncell': '98073XXXXX', 'ntc': 44444}"
      ]
     },
     "execution_count": 19,
     "metadata": {},
     "output_type": "execute_result"
    }
   ],
   "source": [
    "phone_book = {\n",
    "    \"ncell\": \"98073XXXXX\",\n",
    "    \"ntc\":\"98402XXXXX\"\n",
    "}\n",
    "\n",
    "phone_book[\"ntc\"] = 44444\n",
    "phone_book"
   ]
  },
  {
   "cell_type": "code",
   "execution_count": 23,
   "metadata": {},
   "outputs": [
    {
     "data": {
      "text/plain": [
       "{'ncell': '98073XXXXX', 'ntc': '98402XXXXX'}"
      ]
     },
     "execution_count": 23,
     "metadata": {},
     "output_type": "execute_result"
    }
   ],
   "source": [
    "phone_book = {\n",
    "    \"ncell\": \"98073XXXXX\",\n",
    "    \"ntc\":\"98402XXXXX\"\n",
    "}\n",
    "\n",
    "phone_book"
   ]
  },
  {
   "cell_type": "code",
   "execution_count": null,
   "metadata": {},
   "outputs": [],
   "source": [
    "phone_book = {\n",
    "    \"ncell\": \"98073XXXXX\",\n",
    "    \"ntc\":\"98402XXXXX\"\n",
    "}\n"
   ]
  },
  {
   "cell_type": "markdown",
   "metadata": {},
   "source": [
    "## Deleting"
   ]
  },
  {
   "cell_type": "code",
   "execution_count": 30,
   "metadata": {},
   "outputs": [
    {
     "name": "stdout",
     "output_type": "stream",
     "text": [
      "9820######\n"
     ]
    },
    {
     "data": {
      "text/plain": [
       "{'ncell': '98073XXXXX', 'ntc': '98402XXXXX'}"
      ]
     },
     "execution_count": 30,
     "metadata": {},
     "output_type": "execute_result"
    }
   ],
   "source": [
    "phone_book = {\n",
    "    \"ncell\": \"98073XXXXX\",\n",
    "    \"ntc\":\"98402XXXXX\",\n",
    "    \"sky\": \"9820######\"\n",
    "}\n",
    "\n",
    "delete_key = phone_book.pop(\"sky\")\n",
    "#del phone_book[\"ntc\"]   use del if deleted key is not required otherwise pop\n",
    "\n",
    "print(delete_key)\n",
    "phone_book"
   ]
  },
  {
   "cell_type": "code",
   "execution_count": null,
   "metadata": {},
   "outputs": [],
   "source": [
    "\n",
    "phone_book = {\n",
    "    \"ncell\": \"98073XXXXX\",\n",
    "    \"ntc\":\"98402XXXXX\",\n",
    "    \"sky\": \"9820######\"\n",
    "}\n"
   ]
  },
  {
   "cell_type": "code",
   "execution_count": null,
   "metadata": {},
   "outputs": [],
   "source": [
    "contact = {\n",
    "    \"abc\": 980736000,\n",
    "    \"cde\": 454564564\n",
    "}\n",
    "\n"
   ]
  },
  {
   "cell_type": "markdown",
   "metadata": {},
   "source": [
    "## Other methods"
   ]
  },
  {
   "cell_type": "code",
   "execution_count": 19,
   "metadata": {},
   "outputs": [
    {
     "name": "stdout",
     "output_type": "stream",
     "text": [
      "98073XXXXX\n",
      "None\n",
      "98402XXXXX\n",
      "================\n",
      "3\n",
      "dict_keys(['ncell', 'ntc', 'sky'])\n",
      "================\n",
      "dict_values(['98073XXXXX', '98402XXXXX', '9820######'])\n",
      "================\n",
      "dict_items([('ncell', '98073XXXXX'), ('ntc', '98402XXXXX'), ('sky', '9820######')])\n",
      "================\n",
      "================\n",
      "{}\n"
     ]
    }
   ],
   "source": [
    "phone_book = {\n",
    "    \"ncell\": \"98073XXXXX\",\n",
    "    \"ntc\":\"98402XXXXX\",\n",
    "    \"sky\": \"9820######\"\n",
    "}\n",
    "\n",
    "print(phone_book.get(\"ncell\"))\n",
    "print(phone_book.get(\"smart\"))\n",
    "print(phone_book.get(\"ntc\"))\n",
    "print(\"================\")\n",
    "print(len(phone_book))\n",
    "print(phone_book.keys())\n",
    "print(\"================\")\n",
    "print(phone_book.values())\n",
    "print(\"================\")\n",
    "print(phone_book.items())\n",
    "print(\"================\")\n",
    "\n",
    "\"ncell\" in phone_book\n",
    "\"ncell\" not in phone_book\n",
    "\n",
    "#phone_book.clear()\n",
    "print(\"==================\")\n",
    "print(phone_book)"
   ]
  },
  {
   "cell_type": "code",
   "execution_count": null,
   "metadata": {},
   "outputs": [],
   "source": [
    "phone_book = {\n",
    "    \"ncell\": \"98073XXXXX\",\n",
    "    \"ntc\":\"98402XXXXX\",\n",
    "    \"sky\": \"9820######\"\n",
    "}\n"
   ]
  },
  {
   "cell_type": "markdown",
   "metadata": {},
   "source": [
    "## Looping"
   ]
  },
  {
   "cell_type": "code",
   "execution_count": null,
   "metadata": {},
   "outputs": [],
   "source": [
    "hbo_tv_shows = {'The Sopranos': 9.2, 'The Wire': 9.3, 'Band of Brothers': 9.5, 'Game of Thrones': 9.5}\n",
    "\n",
    "for k,x in hbo_tv_shows.items():\n",
    "    print(x,k)"
   ]
  },
  {
   "cell_type": "code",
   "execution_count": null,
   "metadata": {},
   "outputs": [
    {
     "name": "stdout",
     "output_type": "stream",
     "text": [
      "{'Breaking Bad': 9.5, 'Better Call Saul': 8.7, 'The Walking Dead': 8.5}\n",
      "dict_keys(['Breaking Bad', 'Better Call Saul', 'The Walking Dead'])\n",
      "False\n",
      "Breaking Bad 9.5\n",
      "Better Call Saul 8.7\n",
      "The Walking Dead 8.5\n",
      "======================================================\n"
     ]
    }
   ],
   "source": [
    "amc_tv_shows = {\"Breaking Bad\":9.5, \"Better Call Saul\":8.7, \"The Walking Dead\":8.5}\n",
    "print(str(amc_tv_shows))\n",
    "print(str(amc_tv_shows.keys()))\n",
    "print('Breaking' in amc_tv_shows)\n",
    "\n",
    "for i,v in amc_tv_shows.items():\n",
    "    if(type(v) == dict):\n",
    "        for j,t in v.items():\n",
    "            print(j,t)\n",
    "    else:\n",
    "        print(i,v)\n",
    "print(\"======================================================\")\n",
    "a = input(\"Enter a key to search: \")\n",
    "#if(a == \"Breaking Bad\"):\n",
    "#    print(amc_tv_shows.get(a))\n",
    "#elif(a == \"Better Call Saul\"):\n",
    "#    print(amc_tv_shows.get(a))\n",
    "#elif(a == \"The Walking Dead\"):\n",
    " #   print(amc_tv_shows.get(a))\n",
    "#else:\n",
    "#    print(\"No data found\")\n",
    "    \n",
    "    \n",
    "    \n",
    "if(amc_tv_shows.get(a)):\n",
    "    print(amc_tv_shows.get(a))\n",
    "else:\n",
    "    print(\"No data found\")\n",
    "    \n",
    "    \n",
    "#print(amc_tv_shows.get(a,\"No key found\"))\n"
   ]
  },
  {
   "cell_type": "code",
   "execution_count": 5,
   "metadata": {},
   "outputs": [
    {
     "name": "stdout",
     "output_type": "stream",
     "text": [
      "{   'AMC': {   'Better Call Saul': 8.7,\n",
      "               'Breaking Bad': 9.5,\n",
      "               'The Walking Dead': 8.5},\n",
      "    'HBO': {   'Band of Brothers': 9.5,\n",
      "               'Game of Thrones': 9.5,\n",
      "               'The Sopranos': 9.2,\n",
      "               'The Wire': 9.3}}\n",
      "=======================================\n",
      "The rating of The Sopranos is 9.2\n",
      "The rating of The Wire is 9.3\n",
      "The rating of Band of Brothers is 9.5\n",
      "The rating of Game of Thrones is 9.5\n",
      "The rating of Breaking Bad is 9.5\n",
      "The rating of Better Call Saul is 8.7\n",
      "The rating of The Walking Dead is 8.5\n"
     ]
    }
   ],
   "source": [
    "import pprint\n",
    "\n",
    "tv_shows = {\n",
    "    \"HBO\": {'The Sopranos': 9.2, 'The Wire': 9.3, 'Band of Brothers': 9.5, 'Game of Thrones': 9.5},\n",
    "    \"AMC\": {\"Breaking Bad\":9.5, \"Better Call Saul\":8.7, \"The Walking Dead\":8.5}\n",
    "}\n",
    "\n",
    "pp = pprint.PrettyPrinter(indent=4)\n",
    "pp.pprint(tv_shows)\n",
    "\n",
    "print(\"=======================================\")\n",
    "\n",
    "for k,v in tv_shows.items():\n",
    "    for i,j in v.items():\n",
    "        print(\"The rating of {1} is {0}\".format(j,i))\n",
    "           #if(i==\"Breaking Bad\"):\n",
    "              #print(i,j)\n",
    "        "
   ]
  },
  {
   "cell_type": "code",
   "execution_count": null,
   "metadata": {},
   "outputs": [],
   "source": [
    "tv_shows = {\n",
    "    \"HBO\": {'The Sopranos': 9.2, 'The Wire': 9.3, 'Band of Brothers': 9.5, 'Game of Thrones': 9.5},\n",
    "    \"AMC\": {\"Breaking Bad\":9.5, \"Better Call Saul\":8.7, \"The Walking Dead\":8.5}\n",
    "}\n",
    "for i,v in tv_shows.items():\n",
    "    if(type(v) == dict):\n",
    "            print(i,v)\n",
    "    else:\n",
    "        print(\"No dict\")\n",
    "        \n",
    "        \n",
    "        \n",
    "        \n",
    "# tv_shows = {\n",
    "#     \"HBO\": {'The Sopranos': 9.2, 'The Wire': 9.3, 'Band of Brothers': 9.5, 'Game of Thrones': 9.5},\n",
    "#     \"AMC\": {\"Breaking Bad\":9.5, \"Better Call Saul\":8.7, \"Walking Dead\":{\"Fear The Walking dead\":7.5, \"The Walking Dead\": 8.5}}\n",
    "# }"
   ]
  },
  {
   "cell_type": "markdown",
   "metadata": {},
   "source": [
    "## Built-in Dictionary Functions & Methods:\n",
    "\n",
    "* `len(dictonary)`\n",
    "* `str(dict)`\n",
    "* `type(variable)`\n",
    "* `dictionary.copy()`\n",
    "* `dictionary.fromkeys(seq,values)`\n",
    "* `dictionary.get(key,default_value)`\n",
    "* `dictionary.has_key(‘key’)`\n",
    "* `dictionary.items()`\n",
    "* `dictionary.keys()`\n",
    "* `dictionary.setdefault(key, default)`\n",
    "* `dictionary.update(dictionary2)`\n",
    "* `dictionary.values()`"
   ]
  },
  {
   "cell_type": "code",
   "execution_count": null,
   "metadata": {},
   "outputs": [],
   "source": []
  },
  {
   "cell_type": "code",
   "execution_count": null,
   "metadata": {},
   "outputs": [],
   "source": []
  },
  {
   "cell_type": "code",
   "execution_count": null,
   "metadata": {},
   "outputs": [],
   "source": []
  }
 ],
 "metadata": {
  "kernelspec": {
   "display_name": "Python 3",
   "language": "python",
   "name": "python3"
  },
  "language_info": {
   "codemirror_mode": {
    "name": "ipython",
    "version": 3
   },
   "file_extension": ".py",
   "mimetype": "text/x-python",
   "name": "python",
   "nbconvert_exporter": "python",
   "pygments_lexer": "ipython3",
   "version": "3.6.5"
  }
 },
 "nbformat": 4,
 "nbformat_minor": 1
}
