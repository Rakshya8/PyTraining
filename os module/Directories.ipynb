{
 "cells": [
  {
   "cell_type": "code",
   "execution_count": 1,
   "metadata": {},
   "outputs": [
    {
     "name": "stdout",
     "output_type": "stream",
     "text": [
      "['DirEntry', 'F_OK', 'MutableMapping', 'O_APPEND', 'O_BINARY', 'O_CREAT', 'O_EXCL', 'O_NOINHERIT', 'O_RANDOM', 'O_RDONLY', 'O_RDWR', 'O_SEQUENTIAL', 'O_SHORT_LIVED', 'O_TEMPORARY', 'O_TEXT', 'O_TRUNC', 'O_WRONLY', 'P_DETACH', 'P_NOWAIT', 'P_NOWAITO', 'P_OVERLAY', 'P_WAIT', 'PathLike', 'R_OK', 'SEEK_CUR', 'SEEK_END', 'SEEK_SET', 'TMP_MAX', 'W_OK', 'X_OK', '_Environ', '__all__', '__builtins__', '__cached__', '__doc__', '__file__', '__loader__', '__name__', '__package__', '__spec__', '_execvpe', '_exists', '_exit', '_fspath', '_get_exports_list', '_putenv', '_unsetenv', '_wrap_close', 'abc', 'abort', 'access', 'altsep', 'chdir', 'chmod', 'close', 'closerange', 'cpu_count', 'curdir', 'defpath', 'device_encoding', 'devnull', 'dup', 'dup2', 'environ', 'errno', 'error', 'execl', 'execle', 'execlp', 'execlpe', 'execv', 'execve', 'execvp', 'execvpe', 'extsep', 'fdopen', 'fsdecode', 'fsencode', 'fspath', 'fstat', 'fsync', 'ftruncate', 'get_exec_path', 'get_handle_inheritable', 'get_inheritable', 'get_terminal_size', 'getcwd', 'getcwdb', 'getenv', 'getlogin', 'getpid', 'getppid', 'isatty', 'kill', 'linesep', 'link', 'listdir', 'lseek', 'lstat', 'makedirs', 'mkdir', 'name', 'open', 'pardir', 'path', 'pathsep', 'pipe', 'popen', 'putenv', 'read', 'readlink', 'remove', 'removedirs', 'rename', 'renames', 'replace', 'rmdir', 'scandir', 'sep', 'set_handle_inheritable', 'set_inheritable', 'spawnl', 'spawnle', 'spawnv', 'spawnve', 'st', 'startfile', 'stat', 'stat_float_times', 'stat_result', 'statvfs_result', 'strerror', 'supports_bytes_environ', 'supports_dir_fd', 'supports_effective_ids', 'supports_fd', 'supports_follow_symlinks', 'symlink', 'sys', 'system', 'terminal_size', 'times', 'times_result', 'truncate', 'umask', 'uname_result', 'unlink', 'urandom', 'utime', 'waitpid', 'walk', 'write']\n"
     ]
    }
   ],
   "source": [
    "import os\n",
    "\n",
    "print(dir(os))"
   ]
  },
  {
   "cell_type": "markdown",
   "metadata": {},
   "source": [
    "# Get current directory and change directory"
   ]
  },
  {
   "cell_type": "code",
   "execution_count": 4,
   "metadata": {},
   "outputs": [
    {
     "name": "stdout",
     "output_type": "stream",
     "text": [
      "C:\\Users\\Saijal Shakya\\Desktop\\PyTraining\\os module\n"
     ]
    }
   ],
   "source": [
    "#get current working directory (getcwd)\n",
    "print(os.getcwd())"
   ]
  },
  {
   "cell_type": "code",
   "execution_count": 9,
   "metadata": {},
   "outputs": [
    {
     "name": "stdout",
     "output_type": "stream",
     "text": [
      "C:\\Users\\Saijal Shakya\\Desktop\\PyTraining\n"
     ]
    }
   ],
   "source": [
    "# change directory\n",
    "\n",
    "os.chdir('/Users/Saijal Shakya/Desktop/PyTraining')\n",
    "print(os.getcwd())"
   ]
  },
  {
   "cell_type": "markdown",
   "metadata": {},
   "source": [
    "# Listing Directory"
   ]
  },
  {
   "cell_type": "code",
   "execution_count": 10,
   "metadata": {},
   "outputs": [
    {
     "name": "stdout",
     "output_type": "stream",
     "text": [
      "['.git', '.gitignore', '.ipynb_checkpoints', '01_Lists_Tuple_ Sets.ipynb', 'Arduino', 'dict.txt', 'Email Details.xlsx', 'Git', 'Homework.ipynb', 'list', 'numpy', 'os module', 'Py Basics', 'README.md']\n"
     ]
    }
   ],
   "source": [
    "#lisiting current directory\n",
    "\n",
    "print(os.listdir())"
   ]
  },
  {
   "cell_type": "code",
   "execution_count": 13,
   "metadata": {},
   "outputs": [
    {
     "name": "stdout",
     "output_type": "stream",
     "text": [
      "['how fast is numpy.ipynb', 'neural network example.ipynb', 'numpy1.ipynb']\n"
     ]
    }
   ],
   "source": [
    "#listing dir with path\n",
    "\n",
    "print(os.listdir('/Users/Saijal Shakya/Desktop/PyTraining/numpy'))"
   ]
  },
  {
   "cell_type": "markdown",
   "metadata": {},
   "source": [
    "# Creating directory and sub directory\n",
    "\n",
    "#Two ways to create directory"
   ]
  },
  {
   "cell_type": "code",
   "execution_count": 17,
   "metadata": {},
   "outputs": [
    {
     "name": "stdout",
     "output_type": "stream",
     "text": [
      "C:\\Users\\Saijal Shakya\\Desktop\\PyTraining\\os module\n",
      "['.ipynb_checkpoints', 'Untitled.ipynb']\n"
     ]
    }
   ],
   "source": [
    "print(os.getcwd())\n",
    "print(os.listdir())\n"
   ]
  },
  {
   "cell_type": "code",
   "execution_count": 23,
   "metadata": {},
   "outputs": [
    {
     "name": "stdout",
     "output_type": "stream",
     "text": [
      "['.ipynb_checkpoints', 'this-is-demo', 'Untitled.ipynb']\n"
     ]
    }
   ],
   "source": [
    "# creating directory with mkdir\n",
    "\n",
    "os.mkdir(\"this-is-demo\")\n",
    "print(os.listdir())\n",
    "\n",
    "#mkdir cannot create sub directory at once"
   ]
  },
  {
   "cell_type": "code",
   "execution_count": 26,
   "metadata": {},
   "outputs": [
    {
     "name": "stdout",
     "output_type": "stream",
     "text": [
      "['.ipynb_checkpoints', 'this-is-demo', 'this-is-demo2', 'Untitled.ipynb']\n"
     ]
    }
   ],
   "source": [
    "# creating directory with makedirs\n",
    "\n",
    "os.makedirs(\"this-is-demo2\")\n",
    "print(os.listdir())\n",
    "\n",
    "# makedirs is used to create sub directories at once"
   ]
  },
  {
   "cell_type": "code",
   "execution_count": 29,
   "metadata": {},
   "outputs": [
    {
     "name": "stdout",
     "output_type": "stream",
     "text": [
      "['.ipynb_checkpoints', 'this-is-demo', 'this-is-demo2', 'this-is-demo3', 'Untitled.ipynb']\n"
     ]
    }
   ],
   "source": [
    "# this-is-demo3/saijal/demo3\n",
    "os.makedirs(\"this-is-demo3/saijal/demo3\")\n",
    "print(os.listdir())"
   ]
  },
  {
   "cell_type": "code",
   "execution_count": 30,
   "metadata": {},
   "outputs": [
    {
     "data": {
      "text/plain": [
       "['saijal']"
      ]
     },
     "execution_count": 30,
     "metadata": {},
     "output_type": "execute_result"
    }
   ],
   "source": [
    "os.listdir(\"/Users/Saijal Shakya/Desktop/PyTraining/os module/this-is-demo3\")"
   ]
  },
  {
   "cell_type": "markdown",
   "metadata": {},
   "source": [
    "# Removing directory and sub directory\n",
    "\n",
    "#two ways to delete directories"
   ]
  },
  {
   "cell_type": "code",
   "execution_count": 33,
   "metadata": {},
   "outputs": [
    {
     "name": "stdout",
     "output_type": "stream",
     "text": [
      "['.ipynb_checkpoints', 'this-is-demo', 'this-is-demo2', 'this-is-demo3', 'Untitled.ipynb']\n",
      "['.ipynb_checkpoints', 'this-is-demo2', 'this-is-demo3', 'Untitled.ipynb']\n"
     ]
    }
   ],
   "source": [
    "#rmdir cannot delete sub directories at once\n",
    "\n",
    "print(os.listdir())\n",
    "os.rmdir(\"this-is-demo\")\n",
    "print(os.listdir())"
   ]
  },
  {
   "cell_type": "code",
   "execution_count": 35,
   "metadata": {},
   "outputs": [
    {
     "name": "stdout",
     "output_type": "stream",
     "text": [
      "['.ipynb_checkpoints', 'this-is-demo2', 'this-is-demo3', 'Untitled.ipynb']\n",
      "['.ipynb_checkpoints', 'this-is-demo2', 'this-is-demo3', 'Untitled.ipynb']\n"
     ]
    }
   ],
   "source": [
    "print(os.listdir())\n",
    "os.rmdir(\"this-is-demo3/saijal/demo3\") # delete demo3 only\n",
    "print(os.listdir())"
   ]
  },
  {
   "cell_type": "code",
   "execution_count": 41,
   "metadata": {},
   "outputs": [
    {
     "name": "stdout",
     "output_type": "stream",
     "text": [
      "['.ipynb_checkpoints', 'this-is-demo2', 'this-is-demo3', 'Untitled.ipynb']\n",
      "['.ipynb_checkpoints', 'this-is-demo2', 'this-is-demo3', 'Untitled.ipynb']\n"
     ]
    }
   ],
   "source": [
    "#using removedirs\n",
    "\n",
    "print(os.listdir())\n",
    "os.removedirs(\"this-is-demo3/saijal\") # delete this-is-demo3 and saijal directory\n"
   ]
  },
  {
   "cell_type": "code",
   "execution_count": 42,
   "metadata": {},
   "outputs": [
    {
     "data": {
      "text/plain": [
       "['.ipynb_checkpoints', 'this-is-demo2', 'Untitled.ipynb']"
      ]
     },
     "execution_count": 42,
     "metadata": {},
     "output_type": "execute_result"
    }
   ],
   "source": [
    "os.listdir()"
   ]
  },
  {
   "cell_type": "markdown",
   "metadata": {},
   "source": [
    "# Renaming directory and stat"
   ]
  },
  {
   "cell_type": "code",
   "execution_count": 44,
   "metadata": {},
   "outputs": [
    {
     "name": "stdout",
     "output_type": "stream",
     "text": [
      "['.ipynb_checkpoints', 'Directories.ipynb', 'this-is-demo2']\n",
      "['.ipynb_checkpoints', 'Directories.ipynb', 'this-is-demo']\n"
     ]
    }
   ],
   "source": [
    "print(os.listdir())\n",
    "os.rename(\"this-is-demo2\",\"this-is-demo\")\n",
    "print(os.listdir())"
   ]
  },
  {
   "cell_type": "code",
   "execution_count": 45,
   "metadata": {},
   "outputs": [
    {
     "name": "stdout",
     "output_type": "stream",
     "text": [
      "os.stat_result(st_mode=16895, st_ino=15762598695833646, st_dev=711678135, st_nlink=1, st_uid=0, st_gid=0, st_size=0, st_atime=1544248215, st_mtime=1544247575, st_ctime=1544247575)\n"
     ]
    }
   ],
   "source": [
    "print(os.stat(\"this-is-demo\"))"
   ]
  },
  {
   "cell_type": "code",
   "execution_count": 47,
   "metadata": {},
   "outputs": [
    {
     "name": "stdout",
     "output_type": "stream",
     "text": [
      "0 bytes\n"
     ]
    }
   ],
   "source": [
    "print(os.stat(\"this-is-demo\").st_size, \"bytes\")"
   ]
  },
  {
   "cell_type": "code",
   "execution_count": 49,
   "metadata": {},
   "outputs": [
    {
     "name": "stdout",
     "output_type": "stream",
     "text": [
      "1544247575.3839266 modification time\n"
     ]
    }
   ],
   "source": [
    "#unreadable\n",
    "print(os.stat(\"this-is-demo\").st_mtime, \"modification time\")"
   ]
  },
  {
   "cell_type": "code",
   "execution_count": 50,
   "metadata": {},
   "outputs": [
    {
     "name": "stdout",
     "output_type": "stream",
     "text": [
      "2018-12-08 11:24:35.383927\n"
     ]
    }
   ],
   "source": [
    "#to make it human readable\n",
    "\n",
    "from datetime import datetime\n",
    "\n",
    "mod_time = os.stat(\"this-is-demo\").st_mtime\n",
    "\n",
    "print(datetime.fromtimestamp(mod_time))"
   ]
  },
  {
   "cell_type": "code",
   "execution_count": null,
   "metadata": {},
   "outputs": [],
   "source": []
  }
 ],
 "metadata": {
  "kernelspec": {
   "display_name": "Python 3",
   "language": "python",
   "name": "python3"
  },
  "language_info": {
   "codemirror_mode": {
    "name": "ipython",
    "version": 3
   },
   "file_extension": ".py",
   "mimetype": "text/x-python",
   "name": "python",
   "nbconvert_exporter": "python",
   "pygments_lexer": "ipython3",
   "version": "3.6.5"
  }
 },
 "nbformat": 4,
 "nbformat_minor": 2
}
